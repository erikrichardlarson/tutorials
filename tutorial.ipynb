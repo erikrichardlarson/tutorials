{
 "cells": [
  {
   "cell_type": "markdown",
   "metadata": {},
   "source": [
    "## Python IRL"
   ]
  },
  {
   "cell_type": "markdown",
   "metadata": {},
   "source": [
    "### Intro and environment setup"
   ]
  },
  {
   "cell_type": "code",
   "execution_count": 2,
   "metadata": {},
   "outputs": [
    {
     "data": {
      "text/html": [
       "<div style=\"position: relative; padding-bottom: 42.1792618629174%; height: 0;\">\n",
       "<iframe src=\"https://www.loom.com/embed/b24871c305494b97946a2aa234ccdec4\" frameborder=\"0\" \n",
       "webkitallowfullscreen mozallowfullscreen allowfullscreen style=\"position: absolute; top: 0; \n",
       "left: 0; width: 100%; height: 100%;\"></iframe></div>"
      ],
      "text/plain": [
       "<IPython.core.display.HTML object>"
      ]
     },
     "execution_count": 2,
     "metadata": {},
     "output_type": "execute_result"
    }
   ],
   "source": [
    "from IPython.display import HTML\n",
    "\n",
    "HTML(\"\"\"<div style=\"position: relative; padding-bottom: 42.1792618629174%; height: 0;\">\n",
    "<iframe src=\"https://www.loom.com/embed/b24871c305494b97946a2aa234ccdec4\" frameborder=\"0\" \n",
    "webkitallowfullscreen mozallowfullscreen allowfullscreen style=\"position: absolute; top: 0; \n",
    "left: 0; width: 100%; height: 100%;\"></iframe></div>\"\"\")"
   ]
  },
  {
   "cell_type": "markdown",
   "metadata": {},
   "source": [
    "### Let's fake some data "
   ]
  },
  {
   "cell_type": "code",
   "execution_count": 10,
   "metadata": {},
   "outputs": [
    {
     "data": {
      "text/html": [
       "<div style=\"position: relative; padding-bottom: 42.1875%; \n",
       "height: 0;\"><iframe src=\"https://www.loom.com/embed/4ed6d1c48bc04143a441ae93087eea8d\" \n",
       "frameborder=\"0\" webkitallowfullscreen mozallowfullscreen allowfullscreen style=\"position: absolute; \n",
       "top: 0; left: 0; width: 100%; height: 100%;\"></iframe></div>"
      ],
      "text/plain": [
       "<IPython.core.display.HTML object>"
      ]
     },
     "execution_count": 10,
     "metadata": {},
     "output_type": "execute_result"
    }
   ],
   "source": [
    "HTML('''<div style=\"position: relative; padding-bottom: 42.1875%; \n",
    "height: 0;\"><iframe src=\"https://www.loom.com/embed/4ed6d1c48bc04143a441ae93087eea8d\" \n",
    "frameborder=\"0\" webkitallowfullscreen mozallowfullscreen allowfullscreen style=\"position: absolute; \n",
    "top: 0; left: 0; width: 100%; height: 100%;\"></iframe></div>''')"
   ]
  },
  {
   "cell_type": "code",
   "execution_count": 11,
   "metadata": {
    "scrolled": true
   },
   "outputs": [],
   "source": [
    "from faker import Faker\n",
    "import pandas as pd \n",
    "\n",
    "fake = Faker()\n",
    "\n",
    "names = []\n",
    "phones = []\n",
    "emails = []\n",
    "companies = []\n",
    "\n",
    "for _ in range(500):\n",
    "    names.append(fake.name())\n",
    "    phones.append(fake.phone_number())\n",
    "    emails.append(fake.email())\n",
    "    companies.append(fake.company())"
   ]
  },
  {
   "cell_type": "markdown",
   "metadata": {},
   "source": [
    "### pandas is useful"
   ]
  },
  {
   "cell_type": "code",
   "execution_count": 70,
   "metadata": {},
   "outputs": [
    {
     "data": {
      "text/html": [
       "<div style=\"position: relative; padding-bottom: 42.1792618629174%; height: 0;\"><iframe src=\"https://www.loom.com/embed/c0ea0f2f6c9e4269bf87d6d6ebc34784\" frameborder=\"0\" webkitallowfullscreen mozallowfullscreen allowfullscreen style=\"position: absolute; top: 0; left: 0; width: 100%; height: 100%;\"></iframe></div>"
      ],
      "text/plain": [
       "<IPython.core.display.HTML object>"
      ]
     },
     "execution_count": 70,
     "metadata": {},
     "output_type": "execute_result"
    }
   ],
   "source": [
    "HTML('''<div style=\"position: relative; padding-bottom: 42.1792618629174%; height: 0;\">\n",
    "<iframe src=\"https://www.loom.com/embed/c0ea0f2f6c9e4269bf87d6d6ebc34784\" \n",
    "frameborder=\"0\" webkitallowfullscreen mozallowfullscreen allowfullscreen style=\"position: absolute; \n",
    "top: 0; left: 0; width: 100%; height: 100%;\"></iframe></div>''')"
   ]
  },
  {
   "cell_type": "code",
   "execution_count": 84,
   "metadata": {
    "scrolled": true
   },
   "outputs": [],
   "source": [
    "import numpy as np\n",
    "\n",
    "contacts_df = pd.DataFrame(zip(names, phones, emails, companies), columns=['Name', 'Phone', 'Email', 'Company'])\n",
    "names_df = pd.DataFrame(names[:50], columns=['Name'])\n",
    "\n",
    "# Boolean masking \n",
    "\n",
    "contacts_df['is_yahoo'] = np.where(contacts_df.Email.str.contains('yahoo.com'), 'yahoo', 'not yahoo')\n",
    "\n",
    "# Merging datasets \n",
    "\n",
    "merged_df = pd.merge(contacts_df, names_df, on=['Name'])\n",
    "\n",
    "# String operations on dataframe\n",
    "\n",
    "contacts_df['domain'] = contacts_df.Email.str.split('@').str.get(1)\n",
    "\n",
    "# Apply a lambda \n",
    "\n",
    "contacts_df['has .com'] = contacts_df.domain.apply(lambda x: '.com' in x)\n",
    "\n",
    "# Group by \n",
    "\n",
    "contacts_df.groupby(contacts_df.Name.str.split().str.get(0)).head(5)\n",
    "\n",
    "# Add columns \n",
    "\n",
    "names_df['location'] = 'Seattle'\n",
    "\n",
    "# Concat dataframes \n",
    "\n",
    "all_existing_contacts_df = pd.concat([contacts_df[['Name']], names_df], ignore_index=True)\n",
    "\n",
    "# Remove nulls \n",
    "\n",
    "all_existing_contacts_df[all_existing_contacts_df.location.notnull()]\n",
    "\n",
    "# Push into dictionary \n",
    "\n",
    "contacts_df.to_dict('records')\n",
    "\n",
    "# Push series to list\n",
    "\n",
    "contacts_df.Email.tolist()"
   ]
  },
  {
   "cell_type": "markdown",
   "metadata": {},
   "source": [
    "### Solving real problems"
   ]
  },
  {
   "cell_type": "code",
   "execution_count": 81,
   "metadata": {},
   "outputs": [
    {
     "data": {
      "text/html": [
       "<div style=\"position: relative; padding-bottom: 42.1875%; \n",
       "height: 0;\"><iframe src=\"https://www.loom.com/embed/b8b0bbb15b3b4122bc18da98d23f97de\" \n",
       "frameborder=\"0\" webkitallowfullscreen mozallowfullscreen allowfullscreen \n",
       "style=\"position: absolute; top: 0; left: 0; \n",
       "width: 100%; height: 100%;\"></iframe></div>"
      ],
      "text/plain": [
       "<IPython.core.display.HTML object>"
      ]
     },
     "execution_count": 81,
     "metadata": {},
     "output_type": "execute_result"
    }
   ],
   "source": [
    "HTML('''<div style=\"position: relative; padding-bottom: 42.1875%; \n",
    "height: 0;\"><iframe src=\"https://www.loom.com/embed/b8b0bbb15b3b4122bc18da98d23f97de\" \n",
    "frameborder=\"0\" webkitallowfullscreen mozallowfullscreen allowfullscreen \n",
    "style=\"position: absolute; top: 0; left: 0; \n",
    "width: 100%; height: 100%;\"></iframe></div>''')"
   ]
  },
  {
   "cell_type": "code",
   "execution_count": 82,
   "metadata": {},
   "outputs": [
    {
     "data": {
      "text/html": [
       "<div>\n",
       "<style scoped>\n",
       "    .dataframe tbody tr th:only-of-type {\n",
       "        vertical-align: middle;\n",
       "    }\n",
       "\n",
       "    .dataframe tbody tr th {\n",
       "        vertical-align: top;\n",
       "    }\n",
       "\n",
       "    .dataframe thead th {\n",
       "        text-align: right;\n",
       "    }\n",
       "</style>\n",
       "<table border=\"1\" class=\"dataframe\">\n",
       "  <thead>\n",
       "    <tr style=\"text-align: right;\">\n",
       "      <th></th>\n",
       "      <th>Name</th>\n",
       "      <th>Phone</th>\n",
       "      <th>Email</th>\n",
       "      <th>Company</th>\n",
       "      <th>is_yahoo</th>\n",
       "      <th>domain</th>\n",
       "      <th>has .com</th>\n",
       "    </tr>\n",
       "  </thead>\n",
       "  <tbody>\n",
       "    <tr>\n",
       "      <th>3</th>\n",
       "      <td>Gabriel Thomas</td>\n",
       "      <td>+1-391-828-1068x69900</td>\n",
       "      <td>gordonangela@vasquez.org</td>\n",
       "      <td>Calderon PLC</td>\n",
       "      <td>not yahoo</td>\n",
       "      <td>vasquez.org</td>\n",
       "      <td>False</td>\n",
       "    </tr>\n",
       "    <tr>\n",
       "      <th>6</th>\n",
       "      <td>Robert Ball</td>\n",
       "      <td>133-768-4628x89391</td>\n",
       "      <td>angelamarquez@herrera-chen.com</td>\n",
       "      <td>Robbins-Schneider</td>\n",
       "      <td>not yahoo</td>\n",
       "      <td>herrera-chen.com</td>\n",
       "      <td>True</td>\n",
       "    </tr>\n",
       "    <tr>\n",
       "      <th>7</th>\n",
       "      <td>Jessica Morris</td>\n",
       "      <td>+1-004-728-6867x11046</td>\n",
       "      <td>philipwhite@boyer.com</td>\n",
       "      <td>Osborne Inc</td>\n",
       "      <td>not yahoo</td>\n",
       "      <td>boyer.com</td>\n",
       "      <td>True</td>\n",
       "    </tr>\n",
       "    <tr>\n",
       "      <th>8</th>\n",
       "      <td>Jacqueline Gomez</td>\n",
       "      <td>001-079-697-5686x7415</td>\n",
       "      <td>katherineking@curry-jackson.biz</td>\n",
       "      <td>Brewer, Reyes and Scott</td>\n",
       "      <td>not yahoo</td>\n",
       "      <td>curry-jackson.biz</td>\n",
       "      <td>False</td>\n",
       "    </tr>\n",
       "    <tr>\n",
       "      <th>10</th>\n",
       "      <td>Jason Scott</td>\n",
       "      <td>001-595-873-0924x775</td>\n",
       "      <td>carolphillips@jimenez-casey.org</td>\n",
       "      <td>Dillon, Black and Kim</td>\n",
       "      <td>not yahoo</td>\n",
       "      <td>jimenez-casey.org</td>\n",
       "      <td>False</td>\n",
       "    </tr>\n",
       "    <tr>\n",
       "      <th>...</th>\n",
       "      <td>...</td>\n",
       "      <td>...</td>\n",
       "      <td>...</td>\n",
       "      <td>...</td>\n",
       "      <td>...</td>\n",
       "      <td>...</td>\n",
       "      <td>...</td>\n",
       "    </tr>\n",
       "    <tr>\n",
       "      <th>493</th>\n",
       "      <td>Carl Perkins</td>\n",
       "      <td>001-648-408-7575x691</td>\n",
       "      <td>psmith@taylor.com</td>\n",
       "      <td>Johnson PLC</td>\n",
       "      <td>not yahoo</td>\n",
       "      <td>taylor.com</td>\n",
       "      <td>True</td>\n",
       "    </tr>\n",
       "    <tr>\n",
       "      <th>494</th>\n",
       "      <td>Mark Davis</td>\n",
       "      <td>+1-885-387-2753x612</td>\n",
       "      <td>christypierce@jefferson.biz</td>\n",
       "      <td>Fletcher Group</td>\n",
       "      <td>not yahoo</td>\n",
       "      <td>jefferson.biz</td>\n",
       "      <td>False</td>\n",
       "    </tr>\n",
       "    <tr>\n",
       "      <th>496</th>\n",
       "      <td>Lauren Fuentes</td>\n",
       "      <td>791.795.5069</td>\n",
       "      <td>sjames@mcdowell-boone.org</td>\n",
       "      <td>Smith Inc</td>\n",
       "      <td>not yahoo</td>\n",
       "      <td>mcdowell-boone.org</td>\n",
       "      <td>False</td>\n",
       "    </tr>\n",
       "    <tr>\n",
       "      <th>497</th>\n",
       "      <td>Henry Daugherty</td>\n",
       "      <td>001-528-633-1553x85759</td>\n",
       "      <td>sylviafox@kim.com</td>\n",
       "      <td>Leon, Clark and Glenn</td>\n",
       "      <td>not yahoo</td>\n",
       "      <td>kim.com</td>\n",
       "      <td>True</td>\n",
       "    </tr>\n",
       "    <tr>\n",
       "      <th>498</th>\n",
       "      <td>Jeffrey Walker</td>\n",
       "      <td>043.648.6288</td>\n",
       "      <td>markhamilton@lowe-johnson.net</td>\n",
       "      <td>Sutton and Sons</td>\n",
       "      <td>not yahoo</td>\n",
       "      <td>lowe-johnson.net</td>\n",
       "      <td>False</td>\n",
       "    </tr>\n",
       "  </tbody>\n",
       "</table>\n",
       "<p>245 rows × 7 columns</p>\n",
       "</div>"
      ],
      "text/plain": [
       "                 Name                   Phone  \\\n",
       "3      Gabriel Thomas   +1-391-828-1068x69900   \n",
       "6         Robert Ball      133-768-4628x89391   \n",
       "7      Jessica Morris   +1-004-728-6867x11046   \n",
       "8    Jacqueline Gomez   001-079-697-5686x7415   \n",
       "10        Jason Scott    001-595-873-0924x775   \n",
       "..                ...                     ...   \n",
       "493      Carl Perkins    001-648-408-7575x691   \n",
       "494        Mark Davis     +1-885-387-2753x612   \n",
       "496    Lauren Fuentes            791.795.5069   \n",
       "497   Henry Daugherty  001-528-633-1553x85759   \n",
       "498    Jeffrey Walker            043.648.6288   \n",
       "\n",
       "                               Email                  Company   is_yahoo  \\\n",
       "3           gordonangela@vasquez.org             Calderon PLC  not yahoo   \n",
       "6     angelamarquez@herrera-chen.com        Robbins-Schneider  not yahoo   \n",
       "7              philipwhite@boyer.com              Osborne Inc  not yahoo   \n",
       "8    katherineking@curry-jackson.biz  Brewer, Reyes and Scott  not yahoo   \n",
       "10   carolphillips@jimenez-casey.org    Dillon, Black and Kim  not yahoo   \n",
       "..                               ...                      ...        ...   \n",
       "493                psmith@taylor.com              Johnson PLC  not yahoo   \n",
       "494      christypierce@jefferson.biz           Fletcher Group  not yahoo   \n",
       "496        sjames@mcdowell-boone.org                Smith Inc  not yahoo   \n",
       "497                sylviafox@kim.com    Leon, Clark and Glenn  not yahoo   \n",
       "498    markhamilton@lowe-johnson.net          Sutton and Sons  not yahoo   \n",
       "\n",
       "                 domain  has .com  \n",
       "3           vasquez.org     False  \n",
       "6      herrera-chen.com      True  \n",
       "7             boyer.com      True  \n",
       "8     curry-jackson.biz     False  \n",
       "10    jimenez-casey.org     False  \n",
       "..                  ...       ...  \n",
       "493          taylor.com      True  \n",
       "494       jefferson.biz     False  \n",
       "496  mcdowell-boone.org     False  \n",
       "497             kim.com      True  \n",
       "498    lowe-johnson.net     False  \n",
       "\n",
       "[245 rows x 7 columns]"
      ]
     },
     "execution_count": 82,
     "metadata": {},
     "output_type": "execute_result"
    }
   ],
   "source": [
    "# \"Can we exclude free domains?\"\n",
    "\n",
    "free_domains = ['hotmail.com', 'gmail.com', 'yahoo.com']\n",
    "\n",
    "contacts_df = contacts_df[~contacts_df['domain'].isin(free_domains)]\n",
    "\n",
    "# \"Can we only keep one person per company and add them to our CRM?\"\n",
    "\n",
    "contacts_df.groupby(contacts_df.Company).head(1).to_dict('records')\n",
    "\n",
    "# \"Can we remove people from a list that don't have a phone number or have this domain?\" \n",
    "contacts_df[(contacts_df.Phone.notnull()) & (contacts_df.domain != 'wright.com')]"
   ]
  }
 ],
 "metadata": {
  "kernelspec": {
   "display_name": "Python 3",
   "language": "python",
   "name": "python3"
  },
  "language_info": {
   "codemirror_mode": {
    "name": "ipython",
    "version": 3
   },
   "file_extension": ".py",
   "mimetype": "text/x-python",
   "name": "python",
   "nbconvert_exporter": "python",
   "pygments_lexer": "ipython3",
   "version": "3.7.7"
  }
 },
 "nbformat": 4,
 "nbformat_minor": 1
}
